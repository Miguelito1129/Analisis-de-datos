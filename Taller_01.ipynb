{
  "cells": [
    {
      "cell_type": "markdown",
      "metadata": {
        "id": "eNxN2vxtYHLW"
      },
      "source": [
        "<h1 align=\"center\">Taller 01 - Programación Básica en Python</h1>\n",
        "\n",
        "Para los siguientes ejercicios realice el modelaje y el programa en Python que soluciona el problema en cuestión."
      ]
    },
    {
      "cell_type": "markdown",
      "metadata": {
        "id": "DQjvFApcYHLd"
      },
      "source": [
        "## Ejercicio 01\n",
        "\n",
        "Realice el modelaje y el programa en Python que resuelva el siguiente problema:\n",
        "\n",
        "> Una tienda de licores compra a su distribuidor cajas de vino que luego vende por botellas. Dado una caja de vino que tiene un costo $c$ y contiene \n",
        "> $n$ botellas, se desea calcular el precio $p$ al que se debe vender cada botella, de manera tal que se obtenga un 30% de utilidad sobre el costo \n",
        "> total de las caja."
      ]
    },
    {
      "cell_type": "markdown",
      "metadata": {
        "id": "0pOS-3OoYHLe"
      },
      "source": [
        "### Modelaje\n",
        "\n",
        "**Datos de Entrada:**\n",
        "\n",
        "Nombre | Identificador | Tipo\n",
        "---|---|---\n",
        "\n",
        "\n",
        "**Datos de Salida:**\n",
        "\n",
        "Nombre | Identificador | Tipo\n",
        "---|---|---"
      ]
    },
    {
      "cell_type": "code",
      "execution_count": null,
      "metadata": {},
      "outputs": [],
      "source": [
        "# Datos de entrada\n",
        "c = float(input(\"Ingrese el costo de la caja de vino: \"))\n",
        "n = int(input(\"Ingrese el número de botellas en la caja: \"))\n",
        "\n",
        "# Calcular el precio de venta por botella\n",
        "p = (c * 1.30) / n\n",
        "\n",
        "# Mostrar el precio de venta por botella\n",
        "print(f\"El precio de venta por botella debe ser: {p:.2f}\")"
      ]
    },
    {
      "cell_type": "markdown",
      "metadata": {
        "id": "JOtyq3p7YHLf"
      },
      "source": [
        "---"
      ]
    },
    {
      "cell_type": "markdown",
      "metadata": {
        "id": "G7u5vo-IYHLg"
      },
      "source": [
        "## Ejercicio 02\n",
        "\n",
        "Relice el modelaje y el programa en Python que resuelve el siguiente problema:\n",
        "\n",
        "> Se sabe que un profesor universitario contratado como catedrático, dedica una hora a\n",
        "> preparar una clase de dos horas y por cada cuatro horas de clase desarrolladas hace una\n",
        "> evaluación, la cual le toma dos horas calificar. Si al docente se le asigna un curso de $n$ horas\n",
        "> al semestre, ¿cuántas horas trabajará en total?"
      ]
    },
    {
      "cell_type": "markdown",
      "metadata": {
        "id": "a_fV0UJDYHLh"
      },
      "source": [
        "### Modelaje\n",
        "\n",
        "**Datos de Entrada:**\n",
        "\n",
        "Nombre | Identificador | Tipo\n",
        "---|---|---\n",
        "\n",
        "\n",
        "**Datos de Salida:**\n",
        "\n",
        "Nombre | Identificador | Tipo\n",
        "---|---|---"
      ]
    },
    {
      "cell_type": "code",
      "execution_count": 2,
      "metadata": {
        "vscode": {
          "languageId": "ruby"
        }
      },
      "outputs": [
        {
          "name": "stdout",
          "output_type": "stream",
          "text": [
            "El total de horas trabajadas por el profesor es: 10.00\n"
          ]
        }
      ],
      "source": [
        "# Datos de entrada\n",
        "n = int(input(\"Ingrese el número de horas asignadas al curso: \"))\n",
        "\n",
        "# Calcular las horas de preparación\n",
        "horas_preparacion = (n / 2) * 1\n",
        "horas_evaluacion = (n / 4) * 2\n",
        "total_horas_trabajadas = n + horas_preparacion + horas_evaluacion\n",
        "\n",
        "# Mostrar el total de horas trabajadas\n",
        "print(f\"El total de horas trabajadas por el profesor es: {total_horas_trabajadas:.2f}\")"
      ]
    },
    {
      "cell_type": "markdown",
      "metadata": {
        "id": "YSOG3q8OYHLh"
      },
      "source": [
        "---"
      ]
    },
    {
      "cell_type": "markdown",
      "metadata": {
        "id": "YzY_5NR0YHLi"
      },
      "source": [
        "## Ejercicio 03\n",
        "\n",
        "Relice el modelaje y el programa en Python que resuelve el siguiente problema:\n",
        "\n",
        "> Un profesor diseña un examen con $n$ preguntas, estima que para calificar cada\n",
        "> pregunta requiere $m$ minutos. Si el examen se aplica a $m$ estudiantes, cuánto\n",
        "> tiempo (horas y minutos) necesita para calificar todos los exámenes."
      ]
    },
    {
      "cell_type": "markdown",
      "metadata": {
        "id": "YfYl7V9OYHLi"
      },
      "source": [
        "### Modelaje\n",
        "\n",
        "**Datos de Entrada:**\n",
        "\n",
        "Nombre | Identificador | Tipo\n",
        "---|---|---\n",
        "\n",
        "\n",
        "**Datos de Salida:**\n",
        "\n",
        "Nombre | Identificador | Tipo\n",
        "---|---|---"
      ]
    },
    {
      "cell_type": "code",
      "execution_count": null,
      "metadata": {},
      "outputs": [
        {
          "name": "stdout",
          "output_type": "stream",
          "text": [
            "El tiempo total para calificar todos los exámenes es: 18 horas y 24 minutos\n"
          ]
        }
      ],
      "source": [
        "# Datos de entrada\n",
        "n_preguntas = int(input(\"Ingrese el número de preguntas del examen: \"))\n",
        "m_minutos_por_pregunta = int(input(\"Ingrese el tiempo en minutos para calificar cada pregunta: \"))\n",
        "m_estudiantes = int(input(\"Ingrese el número de estudiantes: \"))\n",
        "\n",
        "# Calcular el tiempo total en minutos\n",
        "tiempo_total_minutos = n_preguntas * m_minutos_por_pregunta * m_estudiantes\n",
        "\n",
        "# Convertir el tiempo total a horas y minutos\n",
        "horas = tiempo_total_minutos // 60\n",
        "minutos = tiempo_total_minutos % 60\n",
        "\n",
        "# Mostrar el tiempo total en horas y minutos\n",
        "print(f\"El tiempo total para calificar todos los exámenes es: {horas} horas y {minutos} minutos\")"
      ]
    },
    {
      "cell_type": "markdown",
      "metadata": {
        "id": "IEvygdAiYHLi"
      },
      "source": [
        "---"
      ]
    },
    {
      "cell_type": "markdown",
      "metadata": {
        "id": "a3VfHWTcYHLj"
      },
      "source": [
        "## Ejercicio 04\n",
        "\n",
        "Realice el modelaje y el programa en Python que resuelva el siguiente problema:\n",
        "\n",
        "> Tres personas deciden invertir su dinero para fundar una empresa. Cada una de ellas\n",
        "> invierte una cantidad distinta. Obtener el porcentaje que cada cual invierte con\n",
        "> respecto a la cantidad total invertida."
      ]
    },
    {
      "cell_type": "markdown",
      "metadata": {
        "id": "4g4XV165YHLj"
      },
      "source": [
        "### Modelaje\n",
        "\n",
        "**Datos de Entrada:**\n",
        "\n",
        "Nombre | Identificador | Tipo\n",
        "---|---|---\n",
        "\n",
        "\n",
        "**Datos de Salida:**\n",
        "\n",
        "Nombre | Identificador | Tipo\n",
        "---|---|---"
      ]
    },
    {
      "cell_type": "code",
      "execution_count": 4,
      "metadata": {},
      "outputs": [
        {
          "name": "stdout",
          "output_type": "stream",
          "text": [
            "El porcentaje de inversión de la primera persona es: 15.09%\n",
            "El porcentaje de inversión de la segunda persona es: 11.32%\n",
            "El porcentaje de inversión de la tercera persona es: 73.58%\n"
          ]
        }
      ],
      "source": [
        "# Datos de entrada\n",
        "inversion1 = float(input(\"Ingrese la cantidad invertida por la primera persona: \"))\n",
        "inversion2 = float(input(\"Ingrese la cantidad invertida por la segunda persona: \"))\n",
        "inversion3 = float(input(\"Ingrese la cantidad invertida por la tercera persona: \"))\n",
        "\n",
        "# Calcular la inversión total\n",
        "inversion_total = inversion1 + inversion2 + inversion3\n",
        "\n",
        "# Calcular el porcentaje de inversión de cada persona\n",
        "porcentaje1 = (inversion1 / inversion_total) * 100\n",
        "porcentaje2 = (inversion2 / inversion_total) * 100\n",
        "porcentaje3 = (inversion3 / inversion_total) * 100\n",
        "\n",
        "# Mostrar los porcentajes de inversión\n",
        "print(f\"El porcentaje de inversión de la primera persona es: {porcentaje1:.2f}%\")\n",
        "print(f\"El porcentaje de inversión de la segunda persona es: {porcentaje2:.2f}%\")\n",
        "print(f\"El porcentaje de inversión de la tercera persona es: {porcentaje3:.2f}%\")"
      ]
    },
    {
      "cell_type": "markdown",
      "metadata": {
        "id": "lW8DImOGYHLk"
      },
      "source": [
        "---"
      ]
    },
    {
      "cell_type": "markdown",
      "metadata": {
        "id": "NpINU3o0YHLk"
      },
      "source": [
        "## Ejercicio 05\n",
        "\n",
        "Realice el modelaje y el programa en Python que resuelva el siguiente problema:\n",
        "\n",
        "> Un estudiante desea saber cuál será su calificación final en Programación. Dicha\n",
        "> calificación se compone del promedio de tres notas parciales. Cada nota parcial se\n",
        "> obtiene a partir de un taller, una evaluación teórica y una evaluación práctica. Los\n",
        "> talleres equivalen al 25% de la nota del parcial, las evaluaciones teóricas al 35% y las\n",
        "> evaluaciones prácticas al 40%."
      ]
    },
    {
      "cell_type": "markdown",
      "metadata": {
        "id": "3I5XNUeSYHLk"
      },
      "source": [
        "### Modelaje\n",
        "\n",
        "**Datos de Entrada:**\n",
        "\n",
        "Nombre | Identificador | Tipo\n",
        "---|---|---\n",
        "\n",
        "\n",
        "**Datos de Salida:**\n",
        "\n",
        "Nombre | Identificador | Tipo\n",
        "---|---|---"
      ]
    },
    {
      "cell_type": "code",
      "execution_count": 5,
      "metadata": {},
      "outputs": [
        {
          "name": "stdout",
          "output_type": "stream",
          "text": [
            "La calificación final en Programación es: 64.33\n"
          ]
        }
      ],
      "source": [
        "# Datos de entrada\n",
        "taller1 = float(input(\"Ingrese la nota del taller del primer parcial: \"))\n",
        "evaluacion_teorica1 = float(input(\"Ingrese la nota de la evaluación teórica del primer parcial: \"))\n",
        "evaluacion_practica1 = float(input(\"Ingrese la nota de la evaluación práctica del primer parcial: \"))\n",
        "\n",
        "taller2 = float(input(\"Ingrese la nota del taller del segundo parcial: \"))\n",
        "evaluacion_teorica2 = float(input(\"Ingrese la nota de la evaluación teórica del segundo parcial: \"))\n",
        "evaluacion_practica2 = float(input(\"Ingrese la nota de la evaluación práctica del segundo parcial: \"))\n",
        "\n",
        "taller3 = float(input(\"Ingrese la nota del taller del tercer parcial: \"))\n",
        "evaluacion_teorica3 = float(input(\"Ingrese la nota de la evaluación teórica del tercer parcial: \"))\n",
        "evaluacion_practica3 = float(input(\"Ingrese la nota de la evaluación práctica del tercer parcial: \"))\n",
        "\n",
        "# Calcular la nota de cada parcial\n",
        "parcial1 = (taller1 * 0.25) + (evaluacion_teorica1 * 0.35) + (evaluacion_practica1 * 0.40)\n",
        "parcial2 = (taller2 * 0.25) + (evaluacion_teorica2 * 0.35) + (evaluacion_practica2 * 0.40)\n",
        "parcial3 = (taller3 * 0.25) + (evaluacion_teorica3 * 0.35) + (evaluacion_practica3 * 0.40)\n",
        "\n",
        "# Calcular la calificación final\n",
        "calificacion_final = (parcial1 + parcial2 + parcial3) / 3\n",
        "\n",
        "# Mostrar la calificación final\n",
        "print(f\"La calificación final en Programación es: {calificacion_final:.2f}\")"
      ]
    },
    {
      "cell_type": "markdown",
      "metadata": {
        "id": "gsTfNCWpYHLl"
      },
      "source": [
        "---"
      ]
    },
    {
      "cell_type": "markdown",
      "metadata": {
        "id": "0cpIdGmPYHLl"
      },
      "source": [
        "## Ejercicio 06\n",
        "\n",
        "Realice el modelaje y el programa en Python que resuelve el siguiente problema:\n",
        "\n",
        "> Leer un número entero de cuatro dígitos y separar sus dígitos en: miles, centenas, decenas y unidades."
      ]
    },
    {
      "cell_type": "markdown",
      "metadata": {
        "id": "v7o_H3GcYHLl"
      },
      "source": [
        "### Modelaje\n",
        "\n",
        "**Datos de Entrada:**\n",
        "\n",
        "Nombre | Identificador | Tipo\n",
        "---|---|---\n",
        "\n",
        "\n",
        "**Datos de Salida:**\n",
        "\n",
        "Nombre | Identificador | Tipo\n",
        "---|---|---"
      ]
    },
    {
      "cell_type": "code",
      "execution_count": 8,
      "metadata": {},
      "outputs": [
        {
          "name": "stdout",
          "output_type": "stream",
          "text": [
            "Miles: 5\n",
            "Centenas: 9\n",
            "Decenas: 4\n",
            "Unidades: 6\n"
          ]
        }
      ],
      "source": [
        "# Leer un número entero de cuatro dígitos\n",
        "numero = int(input(\"Ingrese un número entero de cuatro dígitos: \"))\n",
        "\n",
        "# Separar los dígitos\n",
        "miles = numero // 1000\n",
        "centenas = (numero % 1000) // 100\n",
        "decenas = (numero % 100) // 10\n",
        "unidades = numero % 10\n",
        "\n",
        "# Mostrar los dígitos separados\n",
        "print(f\"Miles: {miles}\")\n",
        "print(f\"Centenas: {centenas}\")\n",
        "print(f\"Decenas: {decenas}\")\n",
        "print(f\"Unidades: {unidades}\")"
      ]
    },
    {
      "cell_type": "markdown",
      "metadata": {
        "id": "-ZrzR23MYHLl"
      },
      "source": [
        "---"
      ]
    },
    {
      "cell_type": "markdown",
      "metadata": {
        "id": "tpeByvtcYHLm"
      },
      "source": [
        "## Ejercicio 07\n",
        "\n",
        "Escriba el modelaje y el programa en Python que resuelva el siguiente problema:\n",
        "\n",
        "> Las utilidades de una empresa se distribuyen entre tres socios así: socio A = 40%,\n",
        "> socio B = 25% y socio C = 35%. Dada una cantidad de dinero ¿cuánto corresponderá\n",
        "> a cada uno?"
      ]
    },
    {
      "cell_type": "markdown",
      "metadata": {
        "id": "XB79WbZvYHLm"
      },
      "source": [
        "### Modelaje\n",
        "\n",
        "**Datos de Entrada:**\n",
        "\n",
        "Nombre | Identificador | Tipo\n",
        "---|---|---\n",
        "\n",
        "\n",
        "**Datos de Salida:**\n",
        "\n",
        "Nombre | Identificador | Tipo\n",
        "---|---|---"
      ]
    },
    {
      "cell_type": "code",
      "execution_count": 9,
      "metadata": {},
      "outputs": [
        {
          "name": "stdout",
          "output_type": "stream",
          "text": [
            "El socio A recibirá: 383827.20\n",
            "El socio B recibirá: 239892.00\n",
            "El socio C recibirá: 335848.80\n"
          ]
        }
      ],
      "source": [
        "# Datos de entrada\n",
        "utilidades = float(input(\"Ingrese la cantidad de dinero de las utilidades: \"))\n",
        "\n",
        "# Calcular la cantidad correspondiente a cada socio\n",
        "socio_A = utilidades * 0.40\n",
        "socio_B = utilidades * 0.25\n",
        "socio_C = utilidades * 0.35\n",
        "\n",
        "# Mostrar la cantidad correspondiente a cada socio\n",
        "print(f\"El socio A recibirá: {socio_A:.2f}\")\n",
        "print(f\"El socio B recibirá: {socio_B:.2f}\")\n",
        "print(f\"El socio C recibirá: {socio_C:.2f}\")"
      ]
    },
    {
      "cell_type": "markdown",
      "metadata": {
        "id": "aQ5_VoDOYHLm"
      },
      "source": [
        "---"
      ]
    },
    {
      "cell_type": "markdown",
      "metadata": {
        "id": "m_hqnhNHYHLm"
      },
      "source": [
        "## Ejercicio 08\n",
        "\n",
        "Realice el modelaje y el programa en Python que resuelva el siguiente problema:\n",
        "\n",
        "> Calcular el área y el perímetro de un rectángulo de altura $a$ y base $b$.\n",
        "\n",
        "![area rectangulo](https://calculo.cc/temas/temas_geometria/perimetro_area/imagenes/teoria/perim_area/rectangulo.gif)"
      ]
    },
    {
      "cell_type": "markdown",
      "metadata": {
        "id": "56xgB7AbYHLn"
      },
      "source": [
        "### Modelaje\n",
        "\n",
        "**Datos de Entrada:**\n",
        "\n",
        "Nombre | Identificador | Tipo\n",
        "---|---|---\n",
        "\n",
        "\n",
        "**Datos de Salida:**\n",
        "\n",
        "Nombre | Identificador | Tipo\n",
        "---|---|---"
      ]
    },
    {
      "cell_type": "code",
      "execution_count": 10,
      "metadata": {},
      "outputs": [
        {
          "name": "stdout",
          "output_type": "stream",
          "text": [
            "El área del rectángulo es: 354.00\n",
            "El perímetro del rectángulo es: 130.00\n"
          ]
        }
      ],
      "source": [
        "# Leer los datos de entrada\n",
        "a = float(input(\"Ingrese la altura del rectángulo: \"))\n",
        "b = float(input(\"Ingrese la base del rectángulo: \"))\n",
        "\n",
        "# Calcular el área y el perímetro\n",
        "area = a * b\n",
        "perimetro = 2 * (a + b)\n",
        "\n",
        "# Mostrar los resultados\n",
        "print(f\"El área del rectángulo es: {area:.2f}\")\n",
        "print(f\"El perímetro del rectángulo es: {perimetro:.2f}\")"
      ]
    },
    {
      "cell_type": "markdown",
      "metadata": {
        "id": "DMyFBm9EYHLn"
      },
      "source": [
        "---"
      ]
    },
    {
      "cell_type": "markdown",
      "metadata": {
        "id": "2_25vEzuYHLn"
      },
      "source": [
        "## Ejercicio 09\n",
        "\n",
        "Escriba el modelaje y un programa en Python que resuelva el siguiente problema:\n",
        "\n",
        "> Un vendedor recibe un 10% de comisión sobre sus ventas. Si en\n",
        "> un mes cualquiera hace tres ventas por valores diferentes ¿cuánto recibirá por\n",
        "> comisión en cada una de las ventas? y ¿cuánto en total?"
      ]
    },
    {
      "cell_type": "markdown",
      "metadata": {
        "id": "b3ZXlpEXYHLn"
      },
      "source": [
        "### Modelaje\n",
        "\n",
        "**Datos de Entrada:**\n",
        "\n",
        "Nombre | Identificador | Tipo\n",
        "---|---|---\n",
        "\n",
        "\n",
        "**Datos de Salida:**\n",
        "\n",
        "Nombre | Identificador | Tipo\n",
        "---|---|---"
      ]
    },
    {
      "cell_type": "code",
      "execution_count": 11,
      "metadata": {},
      "outputs": [
        {
          "name": "stdout",
          "output_type": "stream",
          "text": [
            "La comisión por la primera venta es: 6959.80\n",
            "La comisión por la segunda venta es: 95949.40\n",
            "La comisión por la tercera venta es: 323664.00\n",
            "La comisión total es: 426573.20\n"
          ]
        }
      ],
      "source": [
        "# Datos de entrada\n",
        "venta1 = float(input(\"Ingrese el valor de la primera venta: \"))\n",
        "venta2 = float(input(\"Ingrese el valor de la segunda venta: \"))\n",
        "venta3 = float(input(\"Ingrese el valor de la tercera venta: \"))\n",
        "\n",
        "# Calcular la comisión por cada venta\n",
        "comision1 = venta1 * 0.10\n",
        "comision2 = venta2 * 0.10\n",
        "comision3 = venta3 * 0.10\n",
        "\n",
        "# Calcular la comisión total\n",
        "comision_total = comision1 + comision2 + comision3\n",
        "\n",
        "# Mostrar las comisiones\n",
        "print(f\"La comisión por la primera venta es: {comision1:.2f}\")\n",
        "print(f\"La comisión por la segunda venta es: {comision2:.2f}\")\n",
        "print(f\"La comisión por la tercera venta es: {comision3:.2f}\")\n",
        "print(f\"La comisión total es: {comision_total:.2f}\")"
      ]
    },
    {
      "cell_type": "markdown",
      "metadata": {
        "id": "J784zx-GYHLo"
      },
      "source": [
        "---"
      ]
    },
    {
      "cell_type": "markdown",
      "metadata": {
        "id": "qiuhJpGBYHLp"
      },
      "source": [
        "## Ejercicio 10\n",
        "\n",
        "Escriba el modelaje y un programa en Python que resuelva el siguiente problema:\n",
        "\n",
        "> Una tienda vende tres tipos diferentes de productos: los productos tipo ‘A’ que cuestan cada uno 1000 pesos; los productos tipo ‘C’, que cuesta cada uno dos mil quinientos pesos y los productos tipo ‘Z’, donde cada uno cuesta tres mil pesos. Queremos que a partir del número de productos que compraron de cada tipo de producto en un día, determine el valor total recolectado por la tienda gracias a la venta de esos productos en el día."
      ]
    },
    {
      "cell_type": "markdown",
      "metadata": {
        "id": "ZLTq-NWUYHLp"
      },
      "source": [
        "### Modelaje\n",
        "\n",
        "**Datos de Entrada:**\n",
        "\n",
        "Nombre | Identificador | Tipo\n",
        "---|---|---\n",
        "\n",
        "\n",
        "**Datos de Salida:**\n",
        "\n",
        "Nombre | Identificador | Tipo\n",
        "---|---|---"
      ]
    },
    {
      "cell_type": "code",
      "execution_count": null,
      "metadata": {},
      "outputs": [],
      "source": [
        "# Datos de entrada\n",
        "productos_A = int(input(\"Ingrese el número de productos tipo 'A' vendidos: \"))\n",
        "productos_C = int(input(\"Ingrese el número de productos tipo 'C' vendidos: \"))\n",
        "productos_Z = int(input(\"Ingrese el número de productos tipo 'Z' vendidos: \"))\n",
        "\n",
        "# Precios de los productos\n",
        "precio_A = 1000\n",
        "precio_C = 2500\n",
        "precio_Z = 3000\n",
        "\n",
        "# Calcular el valor total recolectado\n",
        "total_A = productos_A * precio_A\n",
        "total_C = productos_C * precio_C\n",
        "total_Z = productos_Z * precio_Z\n",
        "total_recolectado = total_A + total_C + total_Z\n",
        "\n",
        "# Mostrar el valor total recolectado\n",
        "print(f\"El valor total recolectado por la tienda es: {total_recolectado:.2f} pesos\")"
      ]
    },
    {
      "cell_type": "markdown",
      "metadata": {
        "id": "J1nzY6RwYHLq"
      },
      "source": [
        "---"
      ]
    },
    {
      "cell_type": "markdown",
      "metadata": {
        "id": "EUGivc_RYHLq"
      },
      "source": [
        "## Ejercicio 11\n",
        "\n",
        "Solucione el mismo problema del Ejercicio 10, pero construya una función que resuelva el problema y luego **use la función** en el programa."
      ]
    },
    {
      "cell_type": "markdown",
      "metadata": {
        "id": "tF0SMvZwYHLq"
      },
      "source": [
        "### Modelaje de la función\n",
        "\n",
        "**Datos de Entrada:**\n",
        "\n",
        "Nombre | Identificador | Tipo\n",
        "---|---|---\n",
        "\n",
        "\n",
        "**Datos de Salida:**\n",
        "\n",
        "Nombre | Identificador | Tipo\n",
        "---|---|---"
      ]
    },
    {
      "cell_type": "code",
      "execution_count": null,
      "metadata": {},
      "outputs": [],
      "source": [
        "# Definición de la función\n",
        "def calcular_total_recolectado(productos_A, productos_C, productos_Z):\n",
        "    # Precios de los productos\n",
        "    precio_A = 1000\n",
        "    precio_C = 2500\n",
        "    precio_Z = 3000\n",
        "\n",
        "    # Calcular el valor total recolectado\n",
        "    \n",
        "    total_A = productos_A * precio_A\n",
        "    total_C = productos_C * precio_C\n",
        "    total_Z = productos_Z * precio_Z\n",
        "    total_recolectado = total_A + total_C + total_Z\n",
        "\n",
        "    return total_recolectado\n",
        "\n",
        "# Programa en Python que resuelve el Ejercicio 11\n",
        "\n",
        "# 1. Leer los datos de entrada\n",
        "productos_A = float(input(\"Ingrese el Total de productos A vendidos: \"))\n",
        "productos_C = float(input(\"Ingrese el Total de productos C vendidos: \"))\n",
        "productos_Z = float(input(\"Ingrese el Total de productos Z vendidos: \"))\n",
        "\n",
        "# 2. Calcular los datos de salida, USANDO LA FUNCIÓN\n",
        "total_recolectado = calcular_total_recolectado(productos_A, productos_C, productos_Z)\n",
        "\n",
        "# 3. Mostrar los datos de salida\n",
        "print(f\"El valor total recolectado por la tienda es: {total_recolectado:.2f} pesos\")"
      ]
    },
    {
      "cell_type": "markdown",
      "metadata": {
        "id": "hwy3ttIYYHLq"
      },
      "source": [
        "---"
      ]
    },
    {
      "cell_type": "markdown",
      "metadata": {
        "id": "Bz0Ec3YjYHLr"
      },
      "source": [
        "## Ejercicio 12\n",
        "\n",
        "Utilizando funciones, escribe el modelaje y un programa en Python que permita obtener el área lateral ($A_L$), el área total ($A_T$) y el volumen de un cono, a partir del valor de la generatriz ($g$), el radio de la base ($r$) y la altura ($h$) del cono. Las fórmulas se presentan en la siguiente figura:\n",
        "\n",
        "![Un cono](https://cuerpossolidosgeometricos1.files.wordpress.com/2012/03/areacono1.jpg?w=300&h=243)"
      ]
    },
    {
      "cell_type": "markdown",
      "metadata": {
        "id": "qNo36n3ZYHLr"
      },
      "source": [
        "## Modelaje de la función que halla el Área Lateral\n",
        "\n",
        "**Datos de Entrada:**\n",
        "\n",
        "Nombre | Identificador | Tipo\n",
        "---|---|---\n",
        "\n",
        "\n",
        "**Datos de Salida:**\n",
        "\n",
        "Nombre | Identificador | Tipo\n",
        "---|---|---"
      ]
    },
    {
      "cell_type": "code",
      "execution_count": 17,
      "metadata": {
        "id": "fAvzL6dzYHLr"
      },
      "outputs": [],
      "source": [
        "# Si queremos usar pi, debemos incluir esta librería\n",
        "import math\n"
      ]
    },
    {
      "cell_type": "code",
      "execution_count": 26,
      "metadata": {},
      "outputs": [],
      "source": [
        "# Función para calcular el área lateral del cono\n",
        "def area_lateral(r, g):\n",
        "    return math.pi * r * g"
      ]
    },
    {
      "cell_type": "markdown",
      "metadata": {
        "id": "z7CZ8HVVYHLr"
      },
      "source": [
        "## Modelaje de la función que halla el Área Total\n",
        "\n",
        "**Datos de Entrada:**\n",
        "\n",
        "Nombre | Identificador | Tipo\n",
        "---|---|---\n",
        "\n",
        "\n",
        "**Datos de Salida:**\n",
        "\n",
        "Nombre | Identificador | Tipo\n",
        "---|---|---"
      ]
    },
    {
      "cell_type": "code",
      "execution_count": 25,
      "metadata": {
        "id": "9fyiA_SXYHLs"
      },
      "outputs": [],
      "source": [
        "\n",
        "# Función para calcular el área total del cono\n",
        "def area_total(r, g):\n",
        "    return math.pi * r * (r + g)\n",
        "\n"
      ]
    },
    {
      "cell_type": "markdown",
      "metadata": {
        "id": "qjEVsAeWYHLs"
      },
      "source": [
        "## Modelaje de la función que halla el Volumen\n",
        "\n",
        "**Datos de Entrada:**\n",
        "\n",
        "Nombre | Identificador | Tipo\n",
        "---|---|---\n",
        "\n",
        "\n",
        "**Datos de Salida:**\n",
        "\n",
        "Nombre | Identificador | Tipo\n",
        "---|---|---"
      ]
    },
    {
      "cell_type": "code",
      "execution_count": 24,
      "metadata": {
        "id": "1AAtdKxMYHLs"
      },
      "outputs": [],
      "source": [
        "\n",
        "# Función para calcular el volumen del cono\n",
        "def volumen_cono(r, h):\n",
        "    return (1/3) * math.pi * r**2 * h\n",
        "\n"
      ]
    },
    {
      "cell_type": "markdown",
      "metadata": {
        "id": "y_w0LzEYYHLs"
      },
      "source": [
        "## Modelaje del programa que resuelve el problema\n",
        "\n",
        "**Datos de Entrada:**\n",
        "\n",
        "Nombre | Identificador | Tipo\n",
        "---|---|---\n",
        "\n",
        "\n",
        "**Datos de Salida:**\n",
        "\n",
        "Nombre | Identificador | Tipo\n",
        "---|---|---"
      ]
    },
    {
      "cell_type": "code",
      "execution_count": 27,
      "metadata": {
        "id": "R99twbrJYHLs"
      },
      "outputs": [
        {
          "name": "stdout",
          "output_type": "stream",
          "text": [
            "El área lateral del cono es: 266815.46\n"
          ]
        }
      ],
      "source": [
        "\n",
        "# 1. Leer los datos de entrada\n",
        "r = float(input(\"Ingrese el radio de la base del cono: \"))\n",
        "g = float(input(\"Ingrese la generatriz del cono: \"))\n",
        "h = float(input(\"Ingrese la altura del cono: \"))\n",
        "\n",
        "# 2. Calcular los datos de salida, USANDO LAS 3 FUNCIONES ANTERIORES\n",
        "area_lateral_cono = area_lateral(r, g)\n",
        "\n",
        "# 3. Mostrar los datos de salida\n",
        "print(f\"El área lateral del cono es: {area_lateral_cono:.2f}\")"
      ]
    },
    {
      "cell_type": "markdown",
      "metadata": {
        "id": "kw7q3pS8YHLs"
      },
      "source": [
        "---"
      ]
    },
    {
      "cell_type": "markdown",
      "metadata": {
        "id": "2uWZMiHhYHLt"
      },
      "source": [
        "## Ejercicio 13\n",
        "\n",
        "Una empresa constructora vende terrenos con la forma a continuación:\n",
        "\n",
        "![Ejercicio2](https://bit.ly/EAN190201)\n",
        "\n",
        "Realice el modelaje, una serie de funciones y el programa en Python que permita obtener el área y perímetro del respectivo terreno. \n",
        "\n",
        "Comencemos por realizar una serie de funciones que más tarde utilizaremos en el programa.\n",
        "\n",
        "Primero una función que halle el área del rectángulo."
      ]
    },
    {
      "cell_type": "markdown",
      "metadata": {
        "id": "pZvWDkAUYHLt"
      },
      "source": [
        "\n",
        "\n",
        "## Modelaje de la función que encuentra el área y el perímetro de un rectángulo\n",
        "\n",
        "**Datos de Entrada:**\n",
        "\n",
        "Nombre | Identificador | Tipo\n",
        "---|---|---\n",
        "\n",
        "\n",
        "**Datos de Salida:**\n",
        "\n",
        "Nombre | Identificador | Tipo\n",
        "---|---|---"
      ]
    },
    {
      "cell_type": "code",
      "execution_count": 20,
      "metadata": {},
      "outputs": [],
      "source": [
        "# Función para calcular el área y el perímetro de un rectángulo\n",
        "def area_perimetro_rectangulo(base, altura):\n",
        "    area = base * altura\n",
        "    perimetro = 2 * (base + altura)\n",
        "    return area, perimetro\n"
      ]
    },
    {
      "cell_type": "markdown",
      "metadata": {
        "id": "rJCIN9TEYHLt"
      },
      "source": [
        "## Modelaje de la función que encuentra la hipotenusa de un triángulo rectangulo a partir de los catetos\n",
        "\n",
        "**Datos de Entrada:**\n",
        "\n",
        "Nombre | Identificador | Tipo\n",
        "---|---|---\n",
        "\n",
        "\n",
        "**Datos de Salida:**\n",
        "\n",
        "Nombre | Identificador | Tipo\n",
        "---|---|---"
      ]
    },
    {
      "cell_type": "code",
      "execution_count": 21,
      "metadata": {
        "id": "Gzzwicu0YHLt"
      },
      "outputs": [],
      "source": [
        "# Función para calcular la hipotenusa de un triángulo rectángulo\n",
        "def hipotenusa(cateto1, cateto2):\n",
        "    return math.sqrt(cateto1**2 + cateto2**2)"
      ]
    },
    {
      "cell_type": "markdown",
      "metadata": {
        "id": "zv2hICqXYHLt"
      },
      "source": [
        "## Modelaje de la función que encuentra el área y el perímetro de un triángulo rectángulo conociendo los 2 catetos\n",
        "\n",
        "**Datos de Entrada:**\n",
        "\n",
        "Nombre | Identificador | Tipo\n",
        "---|---|---\n",
        "\n",
        "\n",
        "**Datos de Salida:**\n",
        "\n",
        "Nombre | Identificador | Tipo\n",
        "---|---|---"
      ]
    },
    {
      "cell_type": "code",
      "execution_count": 22,
      "metadata": {
        "id": "FuHGJqueYHLu"
      },
      "outputs": [],
      "source": [
        "# Función para calcular el área y el perímetro de un triángulo rectángulo\n",
        "def area_perimetro_triangulo(cateto1, cateto2):\n",
        "    area = (cateto1 * cateto2) / 2\n",
        "    hip = hipotenusa(cateto1, cateto2)\n",
        "    perimetro = cateto1 + cateto2 + hip\n",
        "    return area, perimetro"
      ]
    },
    {
      "cell_type": "markdown",
      "metadata": {
        "id": "_7XIUHtcYHLu"
      },
      "source": [
        "## Modelaje de la función que encuentra el área y el perímetro del terreno, a partir de los datos que vemos en la figura\n",
        "\n",
        "**Datos de Entrada:**\n",
        "\n",
        "Nombre | Identificador | Tipo\n",
        "---|---|---\n",
        "\n",
        "\n",
        "**Datos de Salida:**\n",
        "\n",
        "Nombre | Identificador | Tipo\n",
        "---|---|---"
      ]
    },
    {
      "cell_type": "code",
      "execution_count": 23,
      "metadata": {
        "id": "DKsvkAflYHLu"
      },
      "outputs": [
        {
          "name": "stdout",
          "output_type": "stream",
          "text": [
            "El área total del terreno es: 9819.00\n",
            "El perímetro total del terreno es: 505.59\n"
          ]
        }
      ],
      "source": [
        "\n",
        "# 1. Leer los datos de entrada\n",
        "base_rectangulo = float(input(\"Ingrese la base del rectángulo: \"))\n",
        "altura_rectangulo = float(input(\"Ingrese la altura del rectángulo: \"))\n",
        "cateto1_triangulo = float(input(\"Ingrese el primer cateto del triángulo: \"))\n",
        "cateto2_triangulo = float(input(\"Ingrese el segundo cateto del triángulo: \"))\n",
        "\n",
        "# 2. Calcular los datos de salida, USANDO LAS FUNCIONES ANTERIORES\n",
        "area_rectangulo, perimetro_rectangulo = area_perimetro_rectangulo(base_rectangulo, altura_rectangulo)\n",
        "area_triangulo, perimetro_triangulo = area_perimetro_triangulo(cateto1_triangulo, cateto2_triangulo)\n",
        "\n",
        "# Calcular el área y el perímetro total del terreno\n",
        "area_total = area_rectangulo + area_triangulo\n",
        "perimetro_total = perimetro_rectangulo + perimetro_triangulo - cateto1_triangulo\n",
        "\n",
        "# 3. Mostrar los datos de salida\n",
        "print(f\"El área total del terreno es: {area_total:.2f}\")\n",
        "print(f\"El perímetro total del terreno es: {perimetro_total:.2f}\")\n"
      ]
    },
    {
      "cell_type": "markdown",
      "metadata": {
        "id": "YxWA1gy4YHLu"
      },
      "source": [
        "---"
      ]
    },
    {
      "cell_type": "markdown",
      "metadata": {
        "id": "86qxiuAhYHLv"
      },
      "source": [
        "## Ejercicio 14\n",
        "\n",
        "Todo punto del eje cartesiano está descrito por dos elementos: su coordenada $x$ (o «abscisa») y su coordenada $y$ (que también se llama la «ordenada»). Suponga que tenemos las coordenadas $x$ y $y$ de dos puntos: $x_1$ y $y_1$ para el primer punto, y también $x_2$ y $y_2$ para el segundo punto. Queremos encontrar la distancia entre esos dos puntos, pero también la pendiente de la recta que une esos dos puntos, y finalmente, las coordenadas del punto medio entre esos dos puntos.\n",
        "\n",
        "![Dos punto](https://i2.wp.com/www.celeberrima.com/wp-content/uploads/2018/11/Distancia-entre-dos-puntos-geometr%C3%ADa-anal%C3%ADtica-%E2%80%93-F%C3%B3rmula-y-ejemplos.jpg?resize=768%2C551&ssl=1)\n",
        "\n",
        "La distancia se obtiene con la siguiente fórmula:\n",
        "\n",
        "$$\n",
        "d = \\sqrt{(y_2-y_1)^2 + (x_2-x_1)^2}\n",
        "$$\n",
        "\n",
        "La pendiente ($m$) de la recta que une los dos puntos se halla a partir de la siguiente fórmula:\n",
        "\n",
        "$$\n",
        "m = \\frac{y_2-y_1}{x_2-x_1}\n",
        "$$\n",
        "\n",
        "Y las coordenadas del punto medio se obtienen con las siguientes fórmulas:\n",
        "$$\n",
        "x_m = \\frac{x_1+x_2}{2}\\\\\n",
        "y_m = \\frac{y_1+y_2}{2}\n",
        "$$\n",
        "\n",
        "Escriba el modelaje y el programa en Python que permita obtener todos los datos solicitados a partir de las 4 coordenadas. Solucionemos este problema a partir de varias funciones."
      ]
    },
    {
      "cell_type": "markdown",
      "metadata": {
        "id": "rAlUn7cEYHLv"
      },
      "source": [
        "## Modelaje de la función que encuentra la distancia entre dos puntos. Tenga en cuenta que hay 4 datos de entrada: x1, y1, x2 y y2.\n",
        "\n",
        "**Datos de Entrada:**\n",
        "\n",
        "Nombre | Identificador | Tipo\n",
        "---|---|---\n",
        "\n",
        "\n",
        "**Datos de Salida:**\n",
        "\n",
        "Nombre | Identificador | Tipo\n",
        "---|---|---"
      ]
    },
    {
      "cell_type": "code",
      "execution_count": 29,
      "metadata": {
        "id": "DGuHSL3YYHLv"
      },
      "outputs": [],
      "source": [
        "# Para poder usar raiz cuadrada, necesitamos incluir la siguiente librería\n",
        "import math\n",
        "# Función para calcular la distancia entre dos puntos\n",
        "def distancia(x1, y1, x2, y2):\n",
        "    return math.sqrt((x2 - x1)**2 + (y2 - y1)**2)"
      ]
    },
    {
      "cell_type": "markdown",
      "metadata": {
        "id": "Gbj0bEzeYHLw"
      },
      "source": [
        "## Modelaje de la función que encuentra la pendiente de la recta que une a los dos puntos. También se reciben las coordenadas de los dos puntos.\n",
        "\n",
        "**Datos de Entrada:**\n",
        "\n",
        "Nombre | Identificador | Tipo\n",
        "---|---|---\n",
        "\n",
        "\n",
        "**Datos de Salida:**\n",
        "\n",
        "Nombre | Identificador | Tipo\n",
        "---|---|---"
      ]
    },
    {
      "cell_type": "code",
      "execution_count": 32,
      "metadata": {},
      "outputs": [],
      "source": [
        "\n",
        "# Función para calcular la pendiente de la recta que une dos puntos\n",
        "def pendiente(x1, y1, x2, y2):\n",
        "    return (y2 - y1) / (x2 - x1)"
      ]
    },
    {
      "cell_type": "markdown",
      "metadata": {
        "id": "qJspOHbcYHLw"
      },
      "source": [
        "## Modelaje de la función que encuentra las coordenadas x e y del punto medio de la recta que une dos puntos\n",
        "\n",
        "**Datos de Entrada:**\n",
        "\n",
        "Nombre | Identificador | Tipo\n",
        "---|---|---\n",
        "\n",
        "\n",
        "**Datos de Salida:**\n",
        "\n",
        "Nombre | Identificador | Tipo\n",
        "---|---|---"
      ]
    },
    {
      "cell_type": "code",
      "execution_count": 30,
      "metadata": {
        "id": "OuJzuXKzYHLw"
      },
      "outputs": [],
      "source": [
        "\n",
        "# Función para calcular el punto medio de la recta que une dos puntos\n",
        "def punto_medio(x1, y1, x2, y2):\n",
        "    xm = (x1 + x2) / 2\n",
        "    ym = (y1 + y2) / 2\n",
        "    return xm, ym\n"
      ]
    },
    {
      "cell_type": "markdown",
      "metadata": {
        "id": "BEinHIa6YHLw"
      },
      "source": [
        "## Modelaje del programa que soluciona el problema\n",
        "\n",
        "**Datos de Entrada:**\n",
        "\n",
        "Nombre | Identificador | Tipo\n",
        "---|---|---\n",
        "\n",
        "\n",
        "**Datos de Salida:**\n",
        "\n",
        "Nombre | Identificador | Tipo\n",
        "---|---|---"
      ]
    },
    {
      "cell_type": "code",
      "execution_count": 33,
      "metadata": {
        "id": "mMH21G6-YHLx"
      },
      "outputs": [
        {
          "name": "stdout",
          "output_type": "stream",
          "text": [
            "La distancia entre los dos puntos es: 63.20\n",
            "La pendiente de la recta que une los dos puntos es: 12.60\n",
            "El punto medio entre los dos puntos es: (6.50, 37.50)\n"
          ]
        }
      ],
      "source": [
        "\n",
        "# 1. Leer los datos de entrada\n",
        "x1 = float(input(\"Ingrese la coordenada x del primer punto: \"))\n",
        "y1 = float(input(\"Ingrese la coordenada y del primer punto: \"))\n",
        "x2 = float(input(\"Ingrese la coordenada x del segundo punto: \"))\n",
        "y2 = float(input(\"Ingrese la coordenada y del segundo punto: \"))\n",
        "\n",
        "# 2. Calcular los datos de salida, USANDO LAS FUNCIONES ANTERIORES\n",
        "dist = distancia(x1, y1, x2, y2)\n",
        "pend = pendiente(x1, y1, x2, y2)\n",
        "xm, ym = punto_medio(x1, y1, x2, y2)\n",
        "\n",
        "# 3. Mostrar los datos de salida\n",
        "print(f\"La distancia entre los dos puntos es: {dist:.2f}\")\n",
        "print(f\"La pendiente de la recta que une los dos puntos es: {pend:.2f}\")\n",
        "print(f\"El punto medio entre los dos puntos es: ({xm:.2f}, {ym:.2f})\")"
      ]
    },
    {
      "cell_type": "markdown",
      "metadata": {
        "id": "6Nam59iSYHLx"
      },
      "source": [
        "---"
      ]
    },
    {
      "cell_type": "markdown",
      "metadata": {
        "id": "5El_CYIPYHLx"
      },
      "source": [
        "# Ejercicio 15\n",
        "\n",
        "Escriba una función que permita calcular la expansión lineal en una barra de acero a partir de un incremento en la temperatura. La fórmula para encontrar la expansión lineal (llamada $l$) es la siguiente:\n",
        "\n",
        "![Ejercicio 4](https://latex.codecogs.com/png.latex?%5Cdpi%7B200%7D%20%5Cbg_white%20%5Clarge%20l%20%3D%20l_o%5B1&plus;%5Calpha%20%28T_f%20-T_o%29%5D)\n",
        "\n",
        "Donde tenemos que:\n",
        "\n",
        "* $l_o$ es la longitud de la barra de acero a la temperatura inicial $T_o$\n",
        "* $\\alpha$ es el coeficiente de expansión lineal\n",
        "* $T_f$ es la temperatura final de la barra de acero"
      ]
    },
    {
      "cell_type": "markdown",
      "metadata": {
        "id": "eWdTKYQmYHLx"
      },
      "source": [
        "## Modelaje de la función\n",
        "\n",
        "**Datos de Entrada:**\n",
        "\n",
        "Nombre | Identificador | Tipo\n",
        "---|---|---\n",
        "\n",
        "\n",
        "**Datos de Salida:**\n",
        "\n",
        "Nombre | Identificador | Tipo\n",
        "---|---|---"
      ]
    },
    {
      "cell_type": "code",
      "execution_count": 34,
      "metadata": {},
      "outputs": [],
      "source": [
        "# Definición de la función que halla la expansión lineal\n",
        "def expansion_lineal(lo, alpha, To, Tf):\n",
        "    return lo * (1 + alpha * (Tf - To))\n",
        "\n",
        "# Escriba un programa que prueba la función anterior"
      ]
    },
    {
      "cell_type": "code",
      "execution_count": 35,
      "metadata": {
        "id": "RTffusLhYHLy"
      },
      "outputs": [
        {
          "name": "stdout",
          "output_type": "stream",
          "text": [
            "La expansión lineal de la barra de acero es: 63.00\n"
          ]
        }
      ],
      "source": [
        "# 1. Leer los datos de entrada\n",
        "lo = float(input(\"Ingrese la longitud inicial de la barra de acero (lo): \"))\n",
        "alpha = float(input(\"Ingrese el coeficiente de expansión lineal (alpha): \"))\n",
        "To = float(input(\"Ingrese la temperatura inicial (To): \"))\n",
        "Tf = float(input(\"Ingrese la temperatura final (Tf): \"))\n",
        "\n",
        "# 2. Calcular los datos de salida, USANDO LA FUNCIÓN ANTERIOR\n",
        "l = expansion_lineal(lo, alpha, To, Tf)\n",
        "\n",
        "# 3. Mostrar los datos de salida\n",
        "print(f\"La expansión lineal de la barra de acero es: {l:.2f}\")"
      ]
    },
    {
      "cell_type": "markdown",
      "metadata": {
        "id": "yM8jy9zCYHLy"
      },
      "source": [
        "---"
      ]
    },
    {
      "cell_type": "markdown",
      "metadata": {
        "id": "X-4MBOD6YHLz"
      },
      "source": [
        "## Ejercicio 16\n",
        "\n",
        "En el nuevo edificio de la universidad, cada piso tendrá el mismo número de salones y suponga que todos los salones del nuevo edificio tendrán el mismo número de pupitres, conocida como la capacidad del salón. Escriba el modelaje, una función y un programa en Python que calcule el número de salones y el número de pisos que tendrá el nuevo edificio a partir de la capacidad del salón y el número de estudiantes que van a sentarse en los pupitres de la universidad a la universidad ."
      ]
    },
    {
      "cell_type": "markdown",
      "metadata": {
        "id": "vcLZW-ZHYHLz"
      },
      "source": [
        "## Modelaje de la función\n",
        "\n",
        "**Datos de Entrada:**\n",
        "\n",
        "Nombre | Identificador | Tipo\n",
        "---|---|---\n",
        "\n",
        "\n",
        "**Datos de Salida:**\n",
        "\n",
        "Nombre | Identificador | Tipo\n",
        "---|---|---"
      ]
    },
    {
      "cell_type": "code",
      "execution_count": 37,
      "metadata": {
        "id": "bOyU_q1tYHLz",
        "outputId": "8a2d0488-1fe1-4cac-9d59-1806a3f8aea8"
      },
      "outputs": [
        {
          "name": "stdout",
          "output_type": "stream",
          "text": [
            "27\n",
            "26\n"
          ]
        }
      ],
      "source": [
        "import math\n",
        "\n",
        "# Definición de la función\n",
        "def calcular_salones_pisos(capacidad_salon, num_estudiantes, salones_por_piso):\n",
        "    num_salones = math.ceil(num_estudiantes / capacidad_salon)\n",
        "    num_pisos = math.ceil(num_salones / salones_por_piso)\n",
        "    return num_salones, num_pisos\n",
        "\n",
        "\n",
        "print(math.ceil(26.1))\n",
        "print(math.floor(26.1))"
      ]
    },
    {
      "cell_type": "code",
      "execution_count": null,
      "metadata": {
        "vscode": {
          "languageId": "r"
        }
      },
      "outputs": [],
      "source": [
        "\n",
        "# 1. Leer los datos de entrada\n",
        "capacidad_salon = int(input(\"Ingrese la capacidad del salón: \"))\n",
        "num_estudiantes = int(input(\"Ingrese el número de estudiantes: \"))\n",
        "salones_por_piso = int(input(\"Ingrese el número de salones por piso: \"))\n",
        "\n",
        "# 2. Calcular los datos de salida, USANDO LA FUNCIÓN\n",
        "num_salones, num_pisos = calcular_salones_pisos(capacidad_salon, num_estudiantes, salones_por_piso)\n",
        "\n",
        "# 3. Mostrar los datos de salida\n",
        "print(f\"El número de salones es: {num_salones}\")\n",
        "print(f\"El número de pisos es: {num_pisos}\")"
      ]
    }
  ],
  "metadata": {
    "colab": {
      "name": "Taller_01.ipynb",
      "provenance": []
    },
    "kernelspec": {
      "display_name": "Python 3",
      "language": "python",
      "name": "python3"
    },
    "language_info": {
      "codemirror_mode": {
        "name": "ipython",
        "version": 3
      },
      "file_extension": ".py",
      "mimetype": "text/x-python",
      "name": "python",
      "nbconvert_exporter": "python",
      "pygments_lexer": "ipython3",
      "version": "3.10.5"
    }
  },
  "nbformat": 4,
  "nbformat_minor": 0
}
